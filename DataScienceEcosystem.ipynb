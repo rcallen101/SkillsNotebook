{
 "cells": [
  {
   "cell_type": "markdown",
   "id": "402d79ad-1325-4de9-8f5e-6278adb6796e",
   "metadata": {},
   "source": [
    "# Data Science Tools and Ecosystem"
   ]
  },
  {
   "cell_type": "markdown",
   "id": "570cbb3a-4aa0-49a2-8fbb-43b931150557",
   "metadata": {},
   "source": [
    "## In this notebook, Data Science Tools and Ecosystem are summarized."
   ]
  },
  {
   "cell_type": "markdown",
   "id": "0aeaac3e-e8f9-4f5b-9125-1c14b160e80e",
   "metadata": {},
   "source": [
    "### Some of the popular languages that Data Scientists use are:"
   ]
  },
  {
   "cell_type": "code",
   "execution_count": 1,
   "id": "38de62de-794e-4c05-9ebf-26b79e3c1c8c",
   "metadata": {
    "tags": []
   },
   "outputs": [
    {
     "ename": "SyntaxError",
     "evalue": "invalid syntax (4210876955.py, line 1)",
     "output_type": "error",
     "traceback": [
      "\u001b[0;36m  File \u001b[0;32m\"/tmp/ipykernel_397/4210876955.py\"\u001b[0;36m, line \u001b[0;32m1\u001b[0m\n\u001b[0;31m    1 R\u001b[0m\n\u001b[0m      ^\u001b[0m\n\u001b[0;31mSyntaxError\u001b[0m\u001b[0;31m:\u001b[0m invalid syntax\n"
     ]
    }
   ],
   "source": [
    "1 R\n",
    "2 Phython\n",
    "3 SQL"
   ]
  },
  {
   "cell_type": "markdown",
   "id": "e526a7dc-7347-4cf8-956f-7db22a180ce4",
   "metadata": {},
   "source": [
    "1 \"R\"\n",
    "2 \"Python\"\n",
    "3 \" SQL\""
   ]
  },
  {
   "cell_type": "markdown",
   "id": "e8094211-b0ca-4c74-847a-10078c9ecc5a",
   "metadata": {},
   "source": [
    "1. R\n",
    "2. Python\n",
    "3. SQL"
   ]
  },
  {
   "cell_type": "markdown",
   "id": "5ed4be31-1ddf-498e-9c78-dd328cae3894",
   "metadata": {},
   "source": [
    "#### Some of the popular languages that Data Scientists use are:\n",
    "1. R\n",
    "2. Python\n",
    "3. SQL"
   ]
  },
  {
   "cell_type": "markdown",
   "id": "661c5a8e-74a0-4bb6-965a-0755e41265b7",
   "metadata": {},
   "source": [
    "#### Some of the commonly used libraries used by Data Scientists include:\n",
    "1. dplyr\n",
    "2. stringr\n",
    "3. ggplot\n",
    "4. caret"
   ]
  },
  {
   "cell_type": "markdown",
   "id": "42357ae1-4a70-461f-8510-93266238f137",
   "metadata": {},
   "source": [
    "| Data Science Tools|\n",
    "---------------------\n",
    "| Pandas |\n",
    "| Jupyter Notebooks |\n",
    "| Scikit |\n"
   ]
  },
  {
   "cell_type": "markdown",
   "id": "1debb989-f54e-4aea-a179-9987107fe990",
   "metadata": {},
   "source": [
    "### Below are a few examples of evaluating arithmetic expressions in Python"
   ]
  },
  {
   "cell_type": "code",
   "execution_count": 2,
   "id": "1a9a6419-a842-4361-9c73-c26f63cd7e4d",
   "metadata": {
    "tags": []
   },
   "outputs": [
    {
     "data": {
      "text/plain": [
       "17"
      ]
     },
     "execution_count": 2,
     "metadata": {},
     "output_type": "execute_result"
    }
   ],
   "source": [
    "(3*4)+5"
   ]
  },
  {
   "cell_type": "code",
   "execution_count": 3,
   "id": "3b7d34b4-3e96-4d1b-87c8-abac3d560154",
   "metadata": {
    "tags": []
   },
   "outputs": [
    {
     "data": {
      "text/plain": [
       "17"
      ]
     },
     "execution_count": 3,
     "metadata": {},
     "output_type": "execute_result"
    }
   ],
   "source": [
    "#This a simple arithmetic expression to mutiply then add integers\n",
    "(3*4)+5"
   ]
  },
  {
   "cell_type": "code",
   "execution_count": 4,
   "id": "036758f7-92fe-49c9-a79c-cd86d4b05e50",
   "metadata": {
    "tags": []
   },
   "outputs": [
    {
     "data": {
      "text/plain": [
       "3.3333333333333335"
      ]
     },
     "execution_count": 4,
     "metadata": {},
     "output_type": "execute_result"
    }
   ],
   "source": [
    "#This will convert 200 minutes to hours by diving by 60\n",
    "200/60"
   ]
  },
  {
   "cell_type": "markdown",
   "id": "0020d854-7567-426c-a014-08c80276036c",
   "metadata": {},
   "source": [
    "## List popular languages for Data Science\n",
    "### Objectives:\n",
    "- Phython\n",
    "- SQL\n",
    "- R"
   ]
  },
  {
   "cell_type": "markdown",
   "id": "406b7691-fb16-4f8b-9bd7-7ceb4301761d",
   "metadata": {},
   "source": [
    "## Objective\n",
    "- Learn R language\n",
    "- Learn how to setup a Jupyter Notebook\n",
    "- Learn how to work in RStudio\n",
    "- Learn how to use GitHub"
   ]
  },
  {
   "cell_type": "markdown",
   "id": "d5d24f83-bb97-45ef-b06a-35154a93d111",
   "metadata": {},
   "source": [
    "## Author: Rebecca Callen"
   ]
  },
  {
   "cell_type": "markdown",
   "id": "f6421345-09bf-4d61-9661-a439631cc65e",
   "metadata": {},
   "source": [
    "# Author\n",
    "Rebecca Callen"
   ]
  },
  {
   "cell_type": "code",
   "execution_count": null,
   "id": "4bb8da43-de81-48a2-a2dd-5b65c67428bc",
   "metadata": {},
   "outputs": [],
   "source": []
  }
 ],
 "metadata": {
  "kernelspec": {
   "display_name": "Python",
   "language": "python",
   "name": "conda-env-python-py"
  },
  "language_info": {
   "codemirror_mode": {
    "name": "ipython",
    "version": 3
   },
   "file_extension": ".py",
   "mimetype": "text/x-python",
   "name": "python",
   "nbconvert_exporter": "python",
   "pygments_lexer": "ipython3",
   "version": "3.7.12"
  }
 },
 "nbformat": 4,
 "nbformat_minor": 5
}
